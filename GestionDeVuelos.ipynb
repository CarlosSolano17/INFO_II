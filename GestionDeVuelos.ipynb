{
 "cells": [
  {
   "cell_type": "markdown",
   "metadata": {},
   "source": [
    "**Crear 3 clases** -> Pasajero,Vuelos,ReservaVuelvos\n",
    "\n",
    "(+)Publico\n",
    "(#)Privado\n",
    "(-)Protegido\n",
    "\n",
    "\n",
    "**Pasajeros->** Atributos(#nombre,#apellido,#edad,#pasaporte) , metodo: mostrarInformacion()\n",
    "\n",
    "**Vuelo ->** Atributos(+numero,+origen,+destino,+capacidad) , metodos: mostrarInformacion() reservarVuelo() cancelarVuelo()\n",
    "\n",
    "**reservaVuelo ->** metodos: +agregarVuelo()  +buscarVuelo()  +cancelarReserva()  +crearReserva()  +crearReserva()  +mostrarInformacion()\n",
    "\n",
    "\n",
    "\n",
    "\n",
    "Asociaciones:  Pasajero-reservaVuelo   y   vuelo-reservaVuelo\n"
   ]
  },
  {
   "cell_type": "code",
   "execution_count": 63,
   "metadata": {},
   "outputs": [],
   "source": [
    "#GESTION DE VUELOS\n",
    "#CARLOS SOLANO\n",
    "\n",
    "\n",
    "class Pasajero:\n",
    "    def __init__(self, nombre, apellido, edad, pasaporte): #Constructor\n",
    "        self._nombre = nombre  #AtributoPrivado\n",
    "        self._apellido = apellido #AtributoPrivado\n",
    "        self._edad = edad #AtributoPrivado\n",
    "        self._pasaporte = pasaporte #AtributoPrivado\n",
    "\n",
    "    def mostrarInformacion(self):\n",
    "        return f\"Pasajero -> {self._nombre} {self._apellido}\\n            Pasaporte: {self._pasaporte}\"\n",
    "    \n",
    "\n",
    "\n",
    "class Vuelo:\n",
    "    def __init__(self, numero, origen, destino, capacidad): #Constructor\n",
    "        self.numero = numero  #AtributoPublico\n",
    "        self.origen = origen #AtributoPublico\n",
    "        self.destino = destino #AtributoPublico\n",
    "        self.capacidad = capacidad #AtributoPublico\n",
    "\n",
    "        self.asientosDisponibles = capacidad\n",
    "        self.reservas = []\n",
    "\n",
    "    def mostrarInformacion(self):\n",
    "        return f\"Vuelo -> Numero: {self.numero}\\n         Origen: {self.origen}\\n         Destino: {self.destino}\\n         Capacidad: {self.capacidad}\"\n",
    "    \n",
    "\n",
    "    def reservaVuelo(self,pasajero1):\n",
    "        if pasajero1 in self.reservas:\n",
    "            return \"El pasajero tiene una reserva en el vuelo.\"\n",
    "\n",
    "        if self.asientosDisponibles > 0:\n",
    "            self.reservas.append(pasajero1)\n",
    "            self.asientosDisponibles-=1\n",
    "            return \"Reserva exitosa!!!\"\n",
    "        else:\n",
    "            \"No hay cupos.\"\n",
    "\n",
    "    def cancelarReserva(self,pasajero1):\n",
    "        if pasajero1 in self.reservas:\n",
    "            self.reservas.remove(pasajero1)\n",
    "            self.asientosDisponibles+=1\n",
    "            return f\"La reserva del {pasajero1._nombre} {pasajero1._apellido} ha sido cancelada.\"\n",
    "        else:\n",
    "            return f\"El pasajero {pasajero1._nombre} {pasajero1._apellido} no tiene reservas en este vuelo {self.numero}.\"\n",
    "        \n",
    "class reservaVuelo:\n",
    "    def __init__(self):\n",
    "        self.vuelosDisponibles = []\n",
    "\n",
    "    def agregarVuelo(self,vuelo1):\n",
    "        if vuelo1 in self.vuelosDisponibles:\n",
    "            return \"El Vuelo ya ha sido agregado.\"\n",
    "        \n",
    "        else:\n",
    "            self.vuelosDisponibles.append(vuelo1)\n",
    "            return f\"El vuelo numero {vuelo1.numero} ha sido añadido exitosamente.\"\n",
    "\n",
    "    def buscarVuelo(self,numeroVuelo):\n",
    "        for i in self.vuelosDisponibles:\n",
    "            if i.numero == numeroVuelo:\n",
    "                return i.mostrarInformacion()\n",
    "            else:\n",
    "                return None\n",
    "            \n",
    "    def vuelosdisponibles(self):\n",
    "        for i in self.vuelosDisponibles:\n",
    "            print(i.mostrarInformacion())\n",
    "            print(\"-----------------------------\")\n",
    "\n",
    "\n",
    "\n"
   ]
  },
  {
   "cell_type": "code",
   "execution_count": 64,
   "metadata": {},
   "outputs": [],
   "source": [
    "#OBJETOS\n",
    "pasajero1 = Pasajero(\"Carlos\", \"Solano\", 22, 12345679)\n",
    "\n",
    "vuelo1 = Vuelo(123,'Medellín','New york',1)\n",
    "\n",
    "reserva1= reservaVuelo()"
   ]
  },
  {
   "cell_type": "code",
   "execution_count": 65,
   "metadata": {},
   "outputs": [
    {
     "name": "stdout",
     "output_type": "stream",
     "text": [
      "Información\n",
      "Pasajero -> Carlos Solano\n",
      "            Pasaporte: 12345679\n",
      "\n",
      "Información\n",
      "Vuelo -> Numero: 123\n",
      "         Origen: Medellín\n",
      "         Destino: New york\n",
      "         Capacidad: 1\n"
     ]
    }
   ],
   "source": [
    "#PRUEBAS DE ESCRITORIO\n",
    "print(\"Información\")\n",
    "print(pasajero1.mostrarInformacion())\n",
    "\n",
    "print(\"\\nInformación\")\n",
    "print(vuelo1.mostrarInformacion())"
   ]
  },
  {
   "cell_type": "code",
   "execution_count": 66,
   "metadata": {},
   "outputs": [
    {
     "name": "stdout",
     "output_type": "stream",
     "text": [
      "Reserva exitosa!!!\n",
      "El pasajero tiene una reserva en el vuelo.\n",
      "La reserva del Carlos Solano ha sido cancelada.\n"
     ]
    }
   ],
   "source": [
    "#PRUEBAS DE ESCRITORIO\n",
    "print(vuelo1.reservaVuelo(pasajero1))\n",
    "print(vuelo1.reservaVuelo(pasajero1))\n",
    "print(vuelo1.cancelarReserva(pasajero1))"
   ]
  },
  {
   "cell_type": "code",
   "execution_count": 67,
   "metadata": {},
   "outputs": [
    {
     "name": "stdout",
     "output_type": "stream",
     "text": [
      "El vuelo numero 123 ha sido añadido exitosamente.\n"
     ]
    }
   ],
   "source": [
    "#PRUEBA DE ESCRITORIO\n",
    "print(reserva1.agregarVuelo(vuelo1))"
   ]
  },
  {
   "cell_type": "code",
   "execution_count": 69,
   "metadata": {},
   "outputs": [
    {
     "name": "stdout",
     "output_type": "stream",
     "text": [
      "Vuelo -> Numero: 123\n",
      "         Origen: Medellín\n",
      "         Destino: New york\n",
      "         Capacidad: 1\n",
      "-----------------------------\n",
      "None\n"
     ]
    }
   ],
   "source": [
    "#PRUEBA DE ESCRITORIO\n",
    "print(reserva1.vuelosdisponibles())"
   ]
  }
 ],
 "metadata": {
  "kernelspec": {
   "display_name": "Python 3",
   "language": "python",
   "name": "python3"
  },
  "language_info": {
   "codemirror_mode": {
    "name": "ipython",
    "version": 3
   },
   "file_extension": ".py",
   "mimetype": "text/x-python",
   "name": "python",
   "nbconvert_exporter": "python",
   "pygments_lexer": "ipython3",
   "version": "3.10.11"
  },
  "orig_nbformat": 4
 },
 "nbformat": 4,
 "nbformat_minor": 2
}
